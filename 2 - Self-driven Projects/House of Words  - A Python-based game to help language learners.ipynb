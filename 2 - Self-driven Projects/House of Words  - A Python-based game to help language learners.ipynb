{
 "cells": [
  {
   "cell_type": "markdown",
   "id": "e136fed7",
   "metadata": {},
   "source": [
    "## <center> Project Name - House of Words <center/>\n",
    "#### Current language implementation - Python\n",
    "<br/>\n",
    "\n",
    "\n",
    "#### Motivations:\n",
    "* Creating a non-3D version of a language-based learning game to experiment in finding new, automated styles for learning concepts in a motivating and rewarding way by applying game designs that have proven to work in already successfully published games, but which don't essentially focus on augmenting individuals' natural capacities as much as providing a means to hack and smash a video game world.\n",
    "<br/>\n",
    "\n",
    "* Initially, as a setup for a mini-project series to apply the knowledge I have already come upon from the studies of theoretical computing science and software engineering in order to fully appreciate how I can sue technology to design and implement strategies for simplifying tasks that, by today's standards, appear somewhat backdated.\n",
    "<br/>\n",
    "\n",
    "* As an individual who spent his first year at university focusing on learning French as a side-hobby by my own initiative and through my own independently planned strategy to find and make use of resources that I believed suited me and felt more stimulating than many of the more mainstream solutions out there, later on proceeding to feel highly encouraged to try out learning Spanish as a side-hobby during the free-time of my second year, I am interested in figuring out:\n",
    "\n",
    "\n",
    "> How do I design and implement a game that can help its users achieve the following:\n",
    "> * Be accessible to langauge learners of different levels of expertise (beginner, intermediate, and advanced)'\n",
    "> * Experience the flow of simulation in a manner akin to an open RPG game in terms of mechanism and interactivity (certainly, this project isn't able to work to focus too much on the graphical aspect but this is okay as the focus is on the logic of the game), with interactions centred on actions that promote enhancement of users' language vocabulary, grammar awareness, and confidence to express themselves in their target language.\n",
    "> * Consistently feel rewarding, novel, progressive with level mechanisms employed, and, hopefully, replayable.\n",
    "<br/>\n",
    "\n",
    "Success criterion:\n",
    "Very simply, if the game can eventually feel like an Undertale story game, yet unconsciously make its users develop their language capacity through engaging with it, helping to contribute to what may be considered an all-in-one package to learn a language in a captivating way, then brilliant.\n",
    "\n",
    "<br/>\n",
    "For the time being, what this project is currently is a simple side-project for me to wrap my knowledge together and try to build what I would have liked to have had when I was learning my first foreign languages: a cool, stimulating game that would remove most of the issues I came across, such as:\n",
    "\n",
    "* {Game implementation features based on my considerations of which are the harder resources to obtain when learning a language: eg. Obtaining a knowledgeable mentor and oral communication partner, to name one.}"
   ]
  },
  {
   "cell_type": "code",
   "execution_count": 58,
   "id": "c3ce99b1",
   "metadata": {},
   "outputs": [
    {
     "name": "stdout",
     "output_type": "stream",
     "text": [
      "Greetings, please identify yourself.\n",
      "Kindly enter your name: Morad\n"
     ]
    },
    {
     "data": {
      "text/plain": [
       "\"It's a pleasure to meet you Morad. I am MeC-bot.\""
      ]
     },
     "execution_count": 58,
     "metadata": {},
     "output_type": "execute_result"
    }
   ],
   "source": [
    "def welcome_human():\n",
    "    print(\"Greetings, please identify yourself.\")\n",
    "    user = input(\"Kindly enter your name: \")\n",
    "    return f\"It\\'s a pleasure to meet you {user}. I am MeC-bot.\"\n",
    "\n",
    "welcome_human()"
   ]
  },
  {
   "cell_type": "code",
   "execution_count": 67,
   "id": "c1d395d3",
   "metadata": {},
   "outputs": [],
   "source": [
    "def introduce_the_game():\n",
    "     print(\"We will be playing an interesting gaming.\\n \\\n",
    "     It's called: House of Words.\\n \\\n",
    "     For the time being, we ask: Should this game be be designed with OOP principles?\")\n",
    "     answer = input(\"Enter y/n: \")\n",
    "     print(\"In that case, we will use OOP principles\") if answer == \"y\" else print(\"All right, our game will not make use of OOP this time.\")\n",
    "     return \"Let's begin the game.\""
   ]
  },
  {
   "cell_type": "code",
   "execution_count": 68,
   "id": "b2c47559",
   "metadata": {},
   "outputs": [
    {
     "name": "stdout",
     "output_type": "stream",
     "text": [
      "We will be playing an interesting gaming.\n",
      "      It's called: House of Words.\n",
      "      For the time being, we ask: Should this game be be designed with OOP principles?\n",
      "Enter y/n: n\n",
      "All right, our game will not make use of OOP this time.\n"
     ]
    },
    {
     "data": {
      "text/plain": [
       "\"Let's begin the game.\""
      ]
     },
     "execution_count": 68,
     "metadata": {},
     "output_type": "execute_result"
    }
   ],
   "source": [
    "introduce_the_game()"
   ]
  },
  {
   "cell_type": "code",
   "execution_count": null,
   "id": "b3fbc57a",
   "metadata": {},
   "outputs": [],
   "source": []
  }
 ],
 "metadata": {
  "kernelspec": {
   "display_name": "Python 3",
   "language": "python",
   "name": "python3"
  },
  "language_info": {
   "codemirror_mode": {
    "name": "ipython",
    "version": 3
   },
   "file_extension": ".py",
   "mimetype": "text/x-python",
   "name": "python",
   "nbconvert_exporter": "python",
   "pygments_lexer": "ipython3",
   "version": "3.8.8"
  }
 },
 "nbformat": 4,
 "nbformat_minor": 5
}
